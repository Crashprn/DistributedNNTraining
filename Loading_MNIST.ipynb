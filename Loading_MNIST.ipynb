{
 "cells": [
  {
   "cell_type": "markdown",
   "metadata": {},
   "source": [
    "## Imports"
   ]
  },
  {
   "cell_type": "code",
   "execution_count": 1,
   "metadata": {},
   "outputs": [],
   "source": [
    "import torch, torchvision\n",
    "import numpy as np"
   ]
  },
  {
   "cell_type": "code",
   "execution_count": 2,
   "metadata": {},
   "outputs": [
    {
     "name": "stdout",
     "output_type": "stream",
     "text": [
      "torch.Size([60000, 784]) torch.Size([60000])\n",
      "8994156 38045844\n"
     ]
    }
   ],
   "source": [
    "MNIST = torchvision.datasets.MNIST(\"./data\", train=True, download=True)\n",
    "\n",
    "x = MNIST.data.flatten(1).int()\n",
    "y = MNIST.targets.int()\n",
    "\n",
    "print(x.shape, y.shape)\n",
    "\n",
    "x = x.numpy()\n",
    "y = y.numpy()\n",
    "\n",
    "print((x > 0).sum(), (x == 0).sum())\n",
    "\n",
    "\n",
    "np.savetxt(\"data/mnist_x.csv\", x, delimiter=\",\", fmt=\"%d\")\n",
    "np.savetxt(\"data/mnist_y.csv\", y, delimiter=\",\", fmt=\"%d\")"
   ]
  }
 ],
 "metadata": {
  "kernelspec": {
   "display_name": "usr",
   "language": "python",
   "name": "python3"
  },
  "language_info": {
   "codemirror_mode": {
    "name": "ipython",
    "version": 3
   },
   "file_extension": ".py",
   "mimetype": "text/x-python",
   "name": "python",
   "nbconvert_exporter": "python",
   "pygments_lexer": "ipython3",
   "version": "3.12.9"
  }
 },
 "nbformat": 4,
 "nbformat_minor": 2
}
