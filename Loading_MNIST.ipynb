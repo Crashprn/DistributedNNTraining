{
 "cells": [
  {
   "cell_type": "markdown",
   "metadata": {},
   "source": [
    "## Imports"
   ]
  },
  {
   "cell_type": "code",
   "execution_count": 33,
   "metadata": {},
   "outputs": [],
   "source": [
    "import torch, torchvision\n",
    "import numpy as np\n",
    "import matplotlib.pyplot as plt"
   ]
  },
  {
   "cell_type": "code",
   "execution_count": 25,
   "metadata": {},
   "outputs": [],
   "source": [
    "MNIST_train = torchvision.datasets.MNIST(\"./data\", train=True, download=True)\n",
    "MNIST_test = torchvision.datasets.MNIST(\"./data\", train=False, download=True)\n",
    "\n",
    "x_train = MNIST_train.data.flatten(1).int() / 255\n",
    "y_train = MNIST_train.targets.int()\n",
    "\n",
    "x_test = MNIST_test.data.flatten(1).int() / 255\n",
    "y_test = MNIST_test.targets.int()"
   ]
  },
  {
   "cell_type": "code",
   "execution_count": 26,
   "metadata": {},
   "outputs": [],
   "source": [
    "class NeuralNetwork(torch.nn.Module):\n",
    "    def __init__(self, input_size, hidden_size, output_size):\n",
    "        super().__init__()\n",
    "        self.linear1 = torch.nn.Linear(input_size, hidden_size)\n",
    "        self.linear2 = torch.nn.Linear(hidden_size, hidden_size)\n",
    "        self.linear3 = torch.nn.Linear(hidden_size, hidden_size)\n",
    "        self.linear4 = torch.nn.Linear(hidden_size, output_size)\n",
    "        self.act = torch.nn.ReLU()\n",
    "\n",
    "    def forward(self, x):\n",
    "        x = self.act(self.linear1(x))\n",
    "        x = self.act(self.linear2(x))\n",
    "        x = self.act(self.linear3(x))\n",
    "        x = self.linear4(x)\n",
    "        return x"
   ]
  },
  {
   "cell_type": "code",
   "execution_count": 27,
   "metadata": {},
   "outputs": [],
   "source": [
    "dataset = torch.utils.data.TensorDataset(x_train, y_train)\n",
    "train_loader = torch.utils.data.DataLoader(dataset, batch_size=100, shuffle=True)"
   ]
  },
  {
   "cell_type": "code",
   "execution_count": 28,
   "metadata": {},
   "outputs": [
    {
     "name": "stdout",
     "output_type": "stream",
     "text": [
      "Epoch 10/100, Loss: 0.3604, Accuracy: 0.9100\n",
      "Epoch 20/100, Loss: 0.4855, Accuracy: 0.8100\n",
      "Epoch 30/100, Loss: 0.5038, Accuracy: 0.8400\n",
      "Epoch 40/100, Loss: 0.4134, Accuracy: 0.9000\n",
      "Epoch 50/100, Loss: 0.3810, Accuracy: 0.9100\n",
      "Epoch 60/100, Loss: 0.4963, Accuracy: 0.8400\n",
      "Epoch 70/100, Loss: 0.5099, Accuracy: 0.8800\n",
      "Epoch 80/100, Loss: 0.5335, Accuracy: 0.7800\n",
      "Epoch 90/100, Loss: 0.3637, Accuracy: 0.9100\n",
      "Epoch 100/100, Loss: 0.3913, Accuracy: 0.8800\n",
      "Time: 0.18 seconds\n"
     ]
    }
   ],
   "source": [
    "import time\n",
    "num_epochs = 100\n",
    "device = torch.device(\"cuda\" if torch.cuda.is_available() else \"cpu\")\n",
    "\n",
    "model = NeuralNetwork(784, 300, 10)\n",
    "model = model.to(device)\n",
    "model.load_state_dict(gpu_params)\n",
    "loss_fn = torch.nn.CrossEntropyLoss()\n",
    "optimizer = torch.optim.SGD(model.parameters(), lr=0.001)\n",
    "\n",
    "start = time.time()\n",
    "for epoch in range(num_epochs):\n",
    "    b_x, b_y = next(iter(train_loader))\n",
    "    b_x = b_x.float().to(device)\n",
    "    b_y = b_y.long().to(device)\n",
    "    output = model(b_x)\n",
    "    loss = loss_fn(output, b_y)\n",
    "    optimizer.zero_grad()\n",
    "    #loss.backward()\n",
    "    #optimizer.step()\n",
    "    if (epoch + 1) % 10 == 0:\n",
    "        print(f\"Epoch {epoch+1}/{num_epochs}, Loss: {loss.item():.4f}, Accuracy: {(output.argmax(1) == b_y).float().mean():.4f}\")\n",
    "\n",
    "print(f\"Time: {time.time() - start:.2f} seconds\")\n"
   ]
  },
  {
   "cell_type": "markdown",
   "metadata": {},
   "source": [
    "## Test predictions for pre-trained"
   ]
  },
  {
   "cell_type": "markdown",
   "metadata": {},
   "source": [
    "### Loading GPU and CPU weights and Biases"
   ]
  },
  {
   "cell_type": "code",
   "execution_count": 29,
   "metadata": {},
   "outputs": [],
   "source": [
    "save_dir = \"model_saves/\"\n",
    "names = [\"w1\", \"w2\", \"w3\", \"w4\", \"b1\", \"b2\", \"b3\", \"b4\"]\n",
    "torch_names = [\"linear1.weight\", \"linear2.weight\", \"linear3.weight\", \"linear4.weight\", \"linear1.bias\", \"linear2.bias\", \"linear3.bias\", \"linear4.bias\"]\n",
    "cpu_params ={}\n",
    "gpu_params = {}\n",
    "\n",
    "for reg_name, torch_name in zip(names, torch_names):\n",
    "    gpu_param = np.loadtxt(save_dir + reg_name + \"_gpu.csv\", delimiter=\",\")\n",
    "    cpu_param = np.loadtxt(save_dir + reg_name + \"_cpu.csv\", delimiter=\",\")\n",
    "    gpu_params[torch_name] = torch.tensor(gpu_param.T)\n",
    "    cpu_params[torch_name] = torch.tensor(cpu_param.T)\n",
    "\n"
   ]
  },
  {
   "cell_type": "code",
   "execution_count": 32,
   "metadata": {},
   "outputs": [],
   "source": [
    "cpu_net = NeuralNetwork(784, 300, 10)\n",
    "cpu_net.load_state_dict(cpu_params)\n",
    "\n",
    "gpu_net = NeuralNetwork(784, 300, 10)\n",
    "gpu_net.load_state_dict(gpu_params)\n",
    "\n",
    "random_5_idx = np.random.choice(len(x_test), 5, replace=False)\n",
    "x_in = x_test[random_5_idx].float()\n",
    "y_in = y_test[random_5_idx].long()\n",
    "\n",
    "cpu_out = cpu_net(x_in)\n",
    "gpu_out = gpu_net(x_in)\n",
    "\n",
    "cpu_pred = cpu_out.argmax(1)\n",
    "gpu_pred = gpu_out.argmax(1)"
   ]
  },
  {
   "cell_type": "markdown",
   "metadata": {},
   "source": [
    "## Printing predictions"
   ]
  },
  {
   "cell_type": "code",
   "execution_count": null,
   "metadata": {},
   "outputs": [],
   "source": [
    "fig, axs = plt.subplots(1, 5, figsize=(15, 3))\n",
    "\n",
    "for i in range(5):\n",
    "    axs[i].imshow(x_in[i].reshape(28, 28).cpu().numpy(), cmap='gray')\n",
    "    axs[i].set_title(f\"CPU: {cpu_pred[i].item()}, GPU: {gpu_pred[i].item()}, True: {y_in[i].item()}\")\n",
    "    axs[i].axis('off')\n",
    "\n",
    "plt.show()"
   ]
  }
 ],
 "metadata": {
  "kernelspec": {
   "display_name": "Python 3",
   "language": "python",
   "name": "python3"
  },
  "language_info": {
   "codemirror_mode": {
    "name": "ipython",
    "version": 3
   },
   "file_extension": ".py",
   "mimetype": "text/x-python",
   "name": "python",
   "nbconvert_exporter": "python",
   "pygments_lexer": "ipython3",
   "version": "3.12.9"
  }
 },
 "nbformat": 4,
 "nbformat_minor": 2
}
