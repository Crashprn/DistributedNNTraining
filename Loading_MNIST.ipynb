{
 "cells": [
  {
   "cell_type": "markdown",
   "metadata": {},
   "source": [
    "## Imports"
   ]
  },
  {
   "cell_type": "code",
   "execution_count": 3,
   "metadata": {},
   "outputs": [],
   "source": [
    "import torch, torchvision\n",
    "import numpy as np"
   ]
  },
  {
   "cell_type": "code",
   "execution_count": 4,
   "metadata": {},
   "outputs": [
    {
     "name": "stdout",
     "output_type": "stream",
     "text": [
      "torch.Size([60000, 784]) torch.Size([60000])\n",
      "8994156 38045844\n"
     ]
    }
   ],
   "source": [
    "MNIST = torchvision.datasets.MNIST(\"./data\", train=True, download=True)\n",
    "\n",
    "x = MNIST.data.flatten(1).int()\n",
    "y = MNIST.targets.int()\n",
    "\n",
    "print(x.shape, y.shape)\n",
    "\n",
    "x = x.numpy()\n",
    "y = y.numpy()\n",
    "\n",
    "print((x > 0).sum(), (x == 0).sum())\n",
    "\n",
    "\n",
    "#np.savetxt(\"data/mnist_x.csv\", x, delimiter=\",\", fmt=\"%d\")\n",
    "#np.savetxt(\"data/mnist_y.csv\", y, delimiter=\",\", fmt=\"%d\")"
   ]
  },
  {
   "cell_type": "code",
   "execution_count": 5,
   "metadata": {},
   "outputs": [],
   "source": [
    "class NeuralNetwork(torch.nn.Module):\n",
    "    def __init__(self, input_size, hidden_size, output_size):\n",
    "        super().__init__()\n",
    "        self.linear1 = torch.nn.Linear(input_size, hidden_size)\n",
    "        self.linear2 = torch.nn.Linear(hidden_size, hidden_size)\n",
    "        self.linear3 = torch.nn.Linear(hidden_size, hidden_size)\n",
    "        self.linear4 = torch.nn.Linear(hidden_size, output_size)\n",
    "        self.act = torch.nn.ReLU()\n",
    "\n",
    "    def forward(self, x):\n",
    "        x = self.act(self.linear1(x))\n",
    "        x = self.act(self.linear2(x))\n",
    "        x = self.act(self.linear3(x))\n",
    "        x = self.linear4(x)\n",
    "        return x"
   ]
  },
  {
   "cell_type": "code",
   "execution_count": 6,
   "metadata": {},
   "outputs": [],
   "source": [
    "dataset = torch.utils.data.TensorDataset(torch.tensor(x), torch.tensor(y))\n",
    "train_loader = torch.utils.data.DataLoader(dataset, batch_size=100, shuffle=True)"
   ]
  },
  {
   "cell_type": "code",
   "execution_count": 7,
   "metadata": {},
   "outputs": [
    {
     "name": "stdout",
     "output_type": "stream",
     "text": [
      "Epoch 10/100, Loss: 1.7722, Accuracy: 0.4100\n",
      "Epoch 20/100, Loss: 1.2770, Accuracy: 0.6000\n",
      "Epoch 30/100, Loss: 0.9039, Accuracy: 0.7200\n",
      "Epoch 40/100, Loss: 0.8120, Accuracy: 0.7600\n",
      "Epoch 50/100, Loss: 0.7851, Accuracy: 0.7500\n",
      "Epoch 60/100, Loss: 0.6332, Accuracy: 0.8100\n",
      "Epoch 70/100, Loss: 0.5385, Accuracy: 0.7800\n",
      "Epoch 80/100, Loss: 0.4535, Accuracy: 0.8500\n",
      "Epoch 90/100, Loss: 0.7426, Accuracy: 0.7500\n",
      "Epoch 100/100, Loss: 0.6234, Accuracy: 0.7800\n",
      "Time: 1.98 seconds\n"
     ]
    }
   ],
   "source": [
    "import time\n",
    "num_epochs = 100\n",
    "#device = torch.device(\"cuda\" if torch.cuda.is_available() else \"cpu\")\n",
    "device = \"cpu\"\n",
    "\n",
    "model = NeuralNetwork(784, 300, 10)\n",
    "model = model.to(device)\n",
    "loss_fn = torch.nn.CrossEntropyLoss()\n",
    "optimizer = torch.optim.SGD(model.parameters(), lr=0.001)\n",
    "\n",
    "start = time.time()\n",
    "for epoch in range(num_epochs):\n",
    "    b_x, b_y = next(iter(train_loader))\n",
    "    b_x = b_x.float().to(device)\n",
    "    b_y = b_y.long().to(device)\n",
    "    output = model(b_x)\n",
    "    loss = loss_fn(output, b_y)\n",
    "    optimizer.zero_grad()\n",
    "    loss.backward()\n",
    "    optimizer.step()\n",
    "    if (epoch + 1) % 10 == 0:\n",
    "        print(f\"Epoch {epoch+1}/{num_epochs}, Loss: {loss.item():.4f}, Accuracy: {(output.argmax(1) == b_y).float().mean():.4f}\")\n",
    "\n",
    "print(f\"Time: {time.time() - start:.2f} seconds\")\n"
   ]
  }
 ],
 "metadata": {
  "kernelspec": {
   "display_name": "usr",
   "language": "python",
   "name": "python3"
  },
  "language_info": {
   "codemirror_mode": {
    "name": "ipython",
    "version": 3
   },
   "file_extension": ".py",
   "mimetype": "text/x-python",
   "name": "python",
   "nbconvert_exporter": "python",
   "pygments_lexer": "ipython3",
   "version": "3.12.9"
  }
 },
 "nbformat": 4,
 "nbformat_minor": 2
}
